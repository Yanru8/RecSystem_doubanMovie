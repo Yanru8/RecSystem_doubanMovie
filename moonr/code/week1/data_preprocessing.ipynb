{
 "cells": [
  {
   "cell_type": "code",
   "execution_count": 1,
   "metadata": {},
   "outputs": [],
   "source": [
    "#author: moonr\n",
    "#coding: utf-8\n",
    "#数据预处理，整理成标准格式输入Surprise"
   ]
  },
  {
   "cell_type": "code",
   "execution_count": 2,
   "metadata": {},
   "outputs": [],
   "source": [
    "import sys\n",
    "import pandas as pd\n",
    "import numpy as np"
   ]
  },
  {
   "cell_type": "code",
   "execution_count": 3,
   "metadata": {},
   "outputs": [],
   "source": [
    "#数据基本路径\n",
    "data_path = '../../data/'\n",
    "#读取user数据\n",
    "user_df = pd.read_csv(data_path + 'user.csv')\n",
    "#读取movie数据\n",
    "movie_df = pd.read_csv(data_path + 'movie.csv')"
   ]
  },
  {
   "cell_type": "code",
   "execution_count": 4,
   "metadata": {},
   "outputs": [
    {
     "data": {
      "text/html": [
       "<div>\n",
       "<style scoped>\n",
       "    .dataframe tbody tr th:only-of-type {\n",
       "        vertical-align: middle;\n",
       "    }\n",
       "\n",
       "    .dataframe tbody tr th {\n",
       "        vertical-align: top;\n",
       "    }\n",
       "\n",
       "    .dataframe thead th {\n",
       "        text-align: right;\n",
       "    }\n",
       "</style>\n",
       "<table border=\"1\" class=\"dataframe\">\n",
       "  <thead>\n",
       "    <tr style=\"text-align: right;\">\n",
       "      <th></th>\n",
       "      <th>评分</th>\n",
       "      <th>用户名</th>\n",
       "      <th>评论时间</th>\n",
       "      <th>用户ID</th>\n",
       "      <th>电影名</th>\n",
       "      <th>类型</th>\n",
       "    </tr>\n",
       "  </thead>\n",
       "  <tbody>\n",
       "    <tr>\n",
       "      <th>0</th>\n",
       "      <td>2</td>\n",
       "      <td>身似</td>\n",
       "      <td>2018-01-05 15:05:06</td>\n",
       "      <td>1</td>\n",
       "      <td>心雨花露</td>\n",
       "      <td>爱情</td>\n",
       "    </tr>\n",
       "    <tr>\n",
       "      <th>1</th>\n",
       "      <td>4</td>\n",
       "      <td>有意识的贱民</td>\n",
       "      <td>2018-01-05 15:05:06</td>\n",
       "      <td>3</td>\n",
       "      <td>战争的恐怖</td>\n",
       "      <td>战争</td>\n",
       "    </tr>\n",
       "    <tr>\n",
       "      <th>2</th>\n",
       "      <td>2</td>\n",
       "      <td>亿万露电</td>\n",
       "      <td>2018-01-05 15:05:06</td>\n",
       "      <td>4</td>\n",
       "      <td>豪勇七蛟龙</td>\n",
       "      <td>战争</td>\n",
       "    </tr>\n",
       "    <tr>\n",
       "      <th>3</th>\n",
       "      <td>2</td>\n",
       "      <td>Marni</td>\n",
       "      <td>2018-01-05 15:05:06</td>\n",
       "      <td>5</td>\n",
       "      <td>无序之主</td>\n",
       "      <td>犯罪</td>\n",
       "    </tr>\n",
       "    <tr>\n",
       "      <th>4</th>\n",
       "      <td>4</td>\n",
       "      <td>马西嘻嘻嘻</td>\n",
       "      <td>2018-01-05 15:05:06</td>\n",
       "      <td>6</td>\n",
       "      <td>时装店风波</td>\n",
       "      <td>同性</td>\n",
       "    </tr>\n",
       "  </tbody>\n",
       "</table>\n",
       "</div>"
      ],
      "text/plain": [
       "   评分     用户名                 评论时间  用户ID    电影名  类型\n",
       "0   2      身似  2018-01-05 15:05:06     1   心雨花露  爱情\n",
       "1   4  有意识的贱民  2018-01-05 15:05:06     3  战争的恐怖  战争\n",
       "2   2    亿万露电  2018-01-05 15:05:06     4  豪勇七蛟龙  战争\n",
       "3   2   Marni  2018-01-05 15:05:06     5   无序之主  犯罪\n",
       "4   4   马西嘻嘻嘻  2018-01-05 15:05:06     6  时装店风波  同性"
      ]
     },
     "execution_count": 4,
     "metadata": {},
     "output_type": "execute_result"
    }
   ],
   "source": [
    "user_df.head()"
   ]
  },
  {
   "cell_type": "code",
   "execution_count": 5,
   "metadata": {},
   "outputs": [
    {
     "name": "stdout",
     "output_type": "stream",
     "text": [
      "用户列表长度：13545\n"
     ]
    }
   ],
   "source": [
    "#用户ID_用户名列表\n",
    "user_id2name_list = user_df[['用户ID','用户名']].drop_duplicates()\n",
    "#ID唯一性\n",
    "for i in user_id2name_list['用户ID'].tolist():\n",
    "    if len(user_id2name_list[user_id2name_list['用户ID'] == i]) >=2:\n",
    "        print('用户ID：{}重复'.format(i))\n",
    "print('用户列表长度：{}'.format(len(user_id2name_list)))"
   ]
  },
  {
   "cell_type": "code",
   "execution_count": 6,
   "metadata": {},
   "outputs": [
    {
     "data": {
      "text/html": [
       "<div>\n",
       "<style scoped>\n",
       "    .dataframe tbody tr th:only-of-type {\n",
       "        vertical-align: middle;\n",
       "    }\n",
       "\n",
       "    .dataframe tbody tr th {\n",
       "        vertical-align: top;\n",
       "    }\n",
       "\n",
       "    .dataframe thead th {\n",
       "        text-align: right;\n",
       "    }\n",
       "</style>\n",
       "<table border=\"1\" class=\"dataframe\">\n",
       "  <thead>\n",
       "    <tr style=\"text-align: right;\">\n",
       "      <th></th>\n",
       "      <th>类型</th>\n",
       "      <th>主演</th>\n",
       "      <th>地区</th>\n",
       "      <th>导演</th>\n",
       "      <th>特色</th>\n",
       "      <th>评分</th>\n",
       "      <th>电影名</th>\n",
       "    </tr>\n",
       "  </thead>\n",
       "  <tbody>\n",
       "    <tr>\n",
       "      <th>0</th>\n",
       "      <td>剧情</td>\n",
       "      <td>徐峥|王传君|周一围|谭卓|章宇</td>\n",
       "      <td>中国大陆</td>\n",
       "      <td>文牧野</td>\n",
       "      <td>经典</td>\n",
       "      <td>8.9</td>\n",
       "      <td>我不是药神</td>\n",
       "    </tr>\n",
       "    <tr>\n",
       "      <th>1</th>\n",
       "      <td>剧情</td>\n",
       "      <td>冯小刚|许晴|张涵予|刘桦|李易峰</td>\n",
       "      <td>中国大陆</td>\n",
       "      <td>管虎</td>\n",
       "      <td>经典</td>\n",
       "      <td>7.8</td>\n",
       "      <td>老炮儿</td>\n",
       "    </tr>\n",
       "    <tr>\n",
       "      <th>2</th>\n",
       "      <td>剧情</td>\n",
       "      <td>王宝强|刘昊然|肖央|刘承羽|尚语贤</td>\n",
       "      <td>中国大陆</td>\n",
       "      <td>陈思诚</td>\n",
       "      <td>经典</td>\n",
       "      <td>6.7</td>\n",
       "      <td>唐人街探案2</td>\n",
       "    </tr>\n",
       "    <tr>\n",
       "      <th>3</th>\n",
       "      <td>剧情</td>\n",
       "      <td>任素汐|大力|刘帅良|裴魁山|阿如那</td>\n",
       "      <td>中国大陆</td>\n",
       "      <td>周申|刘露</td>\n",
       "      <td>经典</td>\n",
       "      <td>8.3</td>\n",
       "      <td>驴得水</td>\n",
       "    </tr>\n",
       "    <tr>\n",
       "      <th>4</th>\n",
       "      <td>剧情</td>\n",
       "      <td>徐峥|王宝强|李曼|李小璐|左小青</td>\n",
       "      <td>中国大陆</td>\n",
       "      <td>叶伟民</td>\n",
       "      <td>经典</td>\n",
       "      <td>7.5</td>\n",
       "      <td>人在囧途</td>\n",
       "    </tr>\n",
       "  </tbody>\n",
       "</table>\n",
       "</div>"
      ],
      "text/plain": [
       "   类型                  主演    地区     导演  特色   评分     电影名\n",
       "0  剧情    徐峥|王传君|周一围|谭卓|章宇  中国大陆    文牧野  经典  8.9   我不是药神\n",
       "1  剧情   冯小刚|许晴|张涵予|刘桦|李易峰  中国大陆     管虎  经典  7.8     老炮儿\n",
       "2  剧情  王宝强|刘昊然|肖央|刘承羽|尚语贤  中国大陆    陈思诚  经典  6.7  唐人街探案2\n",
       "3  剧情  任素汐|大力|刘帅良|裴魁山|阿如那  中国大陆  周申|刘露  经典  8.3     驴得水\n",
       "4  剧情   徐峥|王宝强|李曼|李小璐|左小青  中国大陆    叶伟民  经典  7.5    人在囧途"
      ]
     },
     "execution_count": 6,
     "metadata": {},
     "output_type": "execute_result"
    }
   ],
   "source": [
    "movie_df.head()"
   ]
  },
  {
   "cell_type": "code",
   "execution_count": 7,
   "metadata": {},
   "outputs": [
    {
     "name": "stdout",
     "output_type": "stream",
     "text": [
      "电影列表长度：23034\n"
     ]
    },
    {
     "data": {
      "text/html": [
       "<div>\n",
       "<style scoped>\n",
       "    .dataframe tbody tr th:only-of-type {\n",
       "        vertical-align: middle;\n",
       "    }\n",
       "\n",
       "    .dataframe tbody tr th {\n",
       "        vertical-align: top;\n",
       "    }\n",
       "\n",
       "    .dataframe thead th {\n",
       "        text-align: right;\n",
       "    }\n",
       "</style>\n",
       "<table border=\"1\" class=\"dataframe\">\n",
       "  <thead>\n",
       "    <tr style=\"text-align: right;\">\n",
       "      <th></th>\n",
       "      <th>电影ID</th>\n",
       "      <th>电影名</th>\n",
       "    </tr>\n",
       "  </thead>\n",
       "  <tbody>\n",
       "    <tr>\n",
       "      <th>0</th>\n",
       "      <td>0</td>\n",
       "      <td>我不是药神</td>\n",
       "    </tr>\n",
       "    <tr>\n",
       "      <th>1</th>\n",
       "      <td>1</td>\n",
       "      <td>老炮儿</td>\n",
       "    </tr>\n",
       "    <tr>\n",
       "      <th>2</th>\n",
       "      <td>2</td>\n",
       "      <td>唐人街探案2</td>\n",
       "    </tr>\n",
       "    <tr>\n",
       "      <th>3</th>\n",
       "      <td>3</td>\n",
       "      <td>驴得水</td>\n",
       "    </tr>\n",
       "    <tr>\n",
       "      <th>4</th>\n",
       "      <td>4</td>\n",
       "      <td>人在囧途</td>\n",
       "    </tr>\n",
       "  </tbody>\n",
       "</table>\n",
       "</div>"
      ],
      "text/plain": [
       "   电影ID     电影名\n",
       "0     0   我不是药神\n",
       "1     1     老炮儿\n",
       "2     2  唐人街探案2\n",
       "3     3     驴得水\n",
       "4     4    人在囧途"
      ]
     },
     "execution_count": 7,
     "metadata": {},
     "output_type": "execute_result"
    }
   ],
   "source": [
    "#对电影名进行编号\n",
    "movie_id2name_list = movie_df['电影名'].drop_duplicates().reset_index()\n",
    "movie_id2name_list.columns = ['电影ID', '电影名']\n",
    "print('电影列表长度：{}'.format(len(movie_id2name_list)))\n",
    "movie_id2name_list.head()"
   ]
  },
  {
   "cell_type": "code",
   "execution_count": 8,
   "metadata": {},
   "outputs": [
    {
     "data": {
      "text/plain": [
       "0"
      ]
     },
     "execution_count": 8,
     "metadata": {},
     "output_type": "execute_result"
    }
   ],
   "source": [
    "userdf_joinmovieid = pd.merge(user_df,movie_id2name_list,how = 'left',left_on='电影名',right_on='电影名')\n",
    "#是否存在没有匹配上的电影名称\n",
    "len(userdf_joinmovieid[userdf_joinmovieid.isnull().T.any()])"
   ]
  },
  {
   "cell_type": "code",
   "execution_count": 9,
   "metadata": {},
   "outputs": [
    {
     "data": {
      "text/html": [
       "<div>\n",
       "<style scoped>\n",
       "    .dataframe tbody tr th:only-of-type {\n",
       "        vertical-align: middle;\n",
       "    }\n",
       "\n",
       "    .dataframe tbody tr th {\n",
       "        vertical-align: top;\n",
       "    }\n",
       "\n",
       "    .dataframe thead th {\n",
       "        text-align: right;\n",
       "    }\n",
       "</style>\n",
       "<table border=\"1\" class=\"dataframe\">\n",
       "  <thead>\n",
       "    <tr style=\"text-align: right;\">\n",
       "      <th></th>\n",
       "      <th>评分</th>\n",
       "      <th>用户名</th>\n",
       "      <th>评论时间</th>\n",
       "      <th>用户ID</th>\n",
       "      <th>电影名</th>\n",
       "      <th>类型</th>\n",
       "      <th>电影ID</th>\n",
       "    </tr>\n",
       "  </thead>\n",
       "  <tbody>\n",
       "    <tr>\n",
       "      <th>0</th>\n",
       "      <td>2</td>\n",
       "      <td>身似</td>\n",
       "      <td>2018-01-05 15:05:06</td>\n",
       "      <td>1</td>\n",
       "      <td>心雨花露</td>\n",
       "      <td>爱情</td>\n",
       "      <td>41273</td>\n",
       "    </tr>\n",
       "    <tr>\n",
       "      <th>1</th>\n",
       "      <td>4</td>\n",
       "      <td>有意识的贱民</td>\n",
       "      <td>2018-01-05 15:05:06</td>\n",
       "      <td>3</td>\n",
       "      <td>战争的恐怖</td>\n",
       "      <td>战争</td>\n",
       "      <td>7411</td>\n",
       "    </tr>\n",
       "    <tr>\n",
       "      <th>2</th>\n",
       "      <td>2</td>\n",
       "      <td>亿万露电</td>\n",
       "      <td>2018-01-05 15:05:06</td>\n",
       "      <td>4</td>\n",
       "      <td>豪勇七蛟龙</td>\n",
       "      <td>战争</td>\n",
       "      <td>11121</td>\n",
       "    </tr>\n",
       "    <tr>\n",
       "      <th>3</th>\n",
       "      <td>2</td>\n",
       "      <td>Marni</td>\n",
       "      <td>2018-01-05 15:05:06</td>\n",
       "      <td>5</td>\n",
       "      <td>无序之主</td>\n",
       "      <td>犯罪</td>\n",
       "      <td>4783</td>\n",
       "    </tr>\n",
       "    <tr>\n",
       "      <th>4</th>\n",
       "      <td>4</td>\n",
       "      <td>马西嘻嘻嘻</td>\n",
       "      <td>2018-01-05 15:05:06</td>\n",
       "      <td>6</td>\n",
       "      <td>时装店风波</td>\n",
       "      <td>同性</td>\n",
       "      <td>19002</td>\n",
       "    </tr>\n",
       "  </tbody>\n",
       "</table>\n",
       "</div>"
      ],
      "text/plain": [
       "   评分     用户名                 评论时间  用户ID    电影名  类型   电影ID\n",
       "0   2      身似  2018-01-05 15:05:06     1   心雨花露  爱情  41273\n",
       "1   4  有意识的贱民  2018-01-05 15:05:06     3  战争的恐怖  战争   7411\n",
       "2   2    亿万露电  2018-01-05 15:05:06     4  豪勇七蛟龙  战争  11121\n",
       "3   2   Marni  2018-01-05 15:05:06     5   无序之主  犯罪   4783\n",
       "4   4   马西嘻嘻嘻  2018-01-05 15:05:06     6  时装店风波  同性  19002"
      ]
     },
     "execution_count": 9,
     "metadata": {},
     "output_type": "execute_result"
    }
   ],
   "source": [
    "userdf_joinmovieid.head()"
   ]
  },
  {
   "cell_type": "code",
   "execution_count": 10,
   "metadata": {},
   "outputs": [],
   "source": [
    "#将用户原始数据转换为suprise需要的格式数据并保存\n",
    "parse_file_path = '../../data/'\n",
    "userdf_suprise_format = userdf_joinmovieid[['用户ID', '电影ID', '评分', '评论时间']]\n",
    "userdf_suprise_format.columns = ['userid', 'movieid', 'score', 'timestamp']\n",
    "userdf_suprise_format.to_csv(parse_file_path + 'data_suprise_format.csv',index=False,sep=',')"
   ]
  },
  {
   "cell_type": "code",
   "execution_count": 11,
   "metadata": {},
   "outputs": [],
   "source": [
    "#保存用户及电影信息\n",
    "user_id2name_list.to_csv(parse_file_path + 'user_list.csv',index=False)\n",
    "movie_id2name_list.to_csv(parse_file_path + 'movie_list.csv',index=False)"
   ]
  }
 ],
 "metadata": {
  "kernelspec": {
   "display_name": "Python 3",
   "language": "python",
   "name": "python3"
  },
  "language_info": {
   "codemirror_mode": {
    "name": "ipython",
    "version": 3
   },
   "file_extension": ".py",
   "mimetype": "text/x-python",
   "name": "python",
   "nbconvert_exporter": "python",
   "pygments_lexer": "ipython3",
   "version": "3.7.3"
  },
  "toc": {
   "base_numbering": 1,
   "nav_menu": {},
   "number_sections": true,
   "sideBar": true,
   "skip_h1_title": false,
   "title_cell": "Table of Contents",
   "title_sidebar": "Contents",
   "toc_cell": false,
   "toc_position": {},
   "toc_section_display": true,
   "toc_window_display": false
  }
 },
 "nbformat": 4,
 "nbformat_minor": 2
}
